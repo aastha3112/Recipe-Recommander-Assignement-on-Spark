{
 "cells": [
  {
   "cell_type": "code",
   "execution_count": null,
   "id": "b3d814ca",
   "metadata": {},
   "outputs": [],
   "source": [
    "from pyspark.sql import SparkSession"
   ]
  },
  {
   "cell_type": "code",
   "execution_count": null,
   "id": "6131f1b7",
   "metadata": {},
   "outputs": [],
   "source": []
  }
 ],
 "metadata": {
  "kernelspec": {
   "display_name": "PySpark",
   "language": "",
   "name": "pysparkkernel"
  }
 },
 "nbformat": 4,
 "nbformat_minor": 5
}
